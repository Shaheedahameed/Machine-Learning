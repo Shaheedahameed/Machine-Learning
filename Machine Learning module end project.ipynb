{
 "cells": [
  {
   "cell_type": "markdown",
   "id": "3aef8073-8082-4e3b-b6a4-7b3f56733715",
   "metadata": {},
   "source": [
    "### 1 Loading and Preprocessing"
   ]
  },
  {
   "cell_type": "code",
   "execution_count": 1,
   "id": "90c8a9b0-00e3-4022-b6e1-e3ef7a30bdf7",
   "metadata": {},
   "outputs": [
    {
     "data": {
      "text/html": [
       "<div>\n",
       "<style scoped>\n",
       "    .dataframe tbody tr th:only-of-type {\n",
       "        vertical-align: middle;\n",
       "    }\n",
       "\n",
       "    .dataframe tbody tr th {\n",
       "        vertical-align: top;\n",
       "    }\n",
       "\n",
       "    .dataframe thead th {\n",
       "        text-align: right;\n",
       "    }\n",
       "</style>\n",
       "<table border=\"1\" class=\"dataframe\">\n",
       "  <thead>\n",
       "    <tr style=\"text-align: right;\">\n",
       "      <th></th>\n",
       "      <th>car_ID</th>\n",
       "      <th>symboling</th>\n",
       "      <th>CarName</th>\n",
       "      <th>fueltype</th>\n",
       "      <th>aspiration</th>\n",
       "      <th>doornumber</th>\n",
       "      <th>carbody</th>\n",
       "      <th>drivewheel</th>\n",
       "      <th>enginelocation</th>\n",
       "      <th>wheelbase</th>\n",
       "      <th>...</th>\n",
       "      <th>enginesize</th>\n",
       "      <th>fuelsystem</th>\n",
       "      <th>boreratio</th>\n",
       "      <th>stroke</th>\n",
       "      <th>compressionratio</th>\n",
       "      <th>horsepower</th>\n",
       "      <th>peakrpm</th>\n",
       "      <th>citympg</th>\n",
       "      <th>highwaympg</th>\n",
       "      <th>price</th>\n",
       "    </tr>\n",
       "  </thead>\n",
       "  <tbody>\n",
       "    <tr>\n",
       "      <th>0</th>\n",
       "      <td>1</td>\n",
       "      <td>3</td>\n",
       "      <td>alfa-romero giulia</td>\n",
       "      <td>gas</td>\n",
       "      <td>std</td>\n",
       "      <td>two</td>\n",
       "      <td>convertible</td>\n",
       "      <td>rwd</td>\n",
       "      <td>front</td>\n",
       "      <td>88.6</td>\n",
       "      <td>...</td>\n",
       "      <td>130</td>\n",
       "      <td>mpfi</td>\n",
       "      <td>3.47</td>\n",
       "      <td>2.68</td>\n",
       "      <td>9.0</td>\n",
       "      <td>111</td>\n",
       "      <td>5000</td>\n",
       "      <td>21</td>\n",
       "      <td>27</td>\n",
       "      <td>13495.0</td>\n",
       "    </tr>\n",
       "    <tr>\n",
       "      <th>1</th>\n",
       "      <td>2</td>\n",
       "      <td>3</td>\n",
       "      <td>alfa-romero stelvio</td>\n",
       "      <td>gas</td>\n",
       "      <td>std</td>\n",
       "      <td>two</td>\n",
       "      <td>convertible</td>\n",
       "      <td>rwd</td>\n",
       "      <td>front</td>\n",
       "      <td>88.6</td>\n",
       "      <td>...</td>\n",
       "      <td>130</td>\n",
       "      <td>mpfi</td>\n",
       "      <td>3.47</td>\n",
       "      <td>2.68</td>\n",
       "      <td>9.0</td>\n",
       "      <td>111</td>\n",
       "      <td>5000</td>\n",
       "      <td>21</td>\n",
       "      <td>27</td>\n",
       "      <td>16500.0</td>\n",
       "    </tr>\n",
       "    <tr>\n",
       "      <th>2</th>\n",
       "      <td>3</td>\n",
       "      <td>1</td>\n",
       "      <td>alfa-romero Quadrifoglio</td>\n",
       "      <td>gas</td>\n",
       "      <td>std</td>\n",
       "      <td>two</td>\n",
       "      <td>hatchback</td>\n",
       "      <td>rwd</td>\n",
       "      <td>front</td>\n",
       "      <td>94.5</td>\n",
       "      <td>...</td>\n",
       "      <td>152</td>\n",
       "      <td>mpfi</td>\n",
       "      <td>2.68</td>\n",
       "      <td>3.47</td>\n",
       "      <td>9.0</td>\n",
       "      <td>154</td>\n",
       "      <td>5000</td>\n",
       "      <td>19</td>\n",
       "      <td>26</td>\n",
       "      <td>16500.0</td>\n",
       "    </tr>\n",
       "    <tr>\n",
       "      <th>3</th>\n",
       "      <td>4</td>\n",
       "      <td>2</td>\n",
       "      <td>audi 100 ls</td>\n",
       "      <td>gas</td>\n",
       "      <td>std</td>\n",
       "      <td>four</td>\n",
       "      <td>sedan</td>\n",
       "      <td>fwd</td>\n",
       "      <td>front</td>\n",
       "      <td>99.8</td>\n",
       "      <td>...</td>\n",
       "      <td>109</td>\n",
       "      <td>mpfi</td>\n",
       "      <td>3.19</td>\n",
       "      <td>3.40</td>\n",
       "      <td>10.0</td>\n",
       "      <td>102</td>\n",
       "      <td>5500</td>\n",
       "      <td>24</td>\n",
       "      <td>30</td>\n",
       "      <td>13950.0</td>\n",
       "    </tr>\n",
       "    <tr>\n",
       "      <th>4</th>\n",
       "      <td>5</td>\n",
       "      <td>2</td>\n",
       "      <td>audi 100ls</td>\n",
       "      <td>gas</td>\n",
       "      <td>std</td>\n",
       "      <td>four</td>\n",
       "      <td>sedan</td>\n",
       "      <td>4wd</td>\n",
       "      <td>front</td>\n",
       "      <td>99.4</td>\n",
       "      <td>...</td>\n",
       "      <td>136</td>\n",
       "      <td>mpfi</td>\n",
       "      <td>3.19</td>\n",
       "      <td>3.40</td>\n",
       "      <td>8.0</td>\n",
       "      <td>115</td>\n",
       "      <td>5500</td>\n",
       "      <td>18</td>\n",
       "      <td>22</td>\n",
       "      <td>17450.0</td>\n",
       "    </tr>\n",
       "  </tbody>\n",
       "</table>\n",
       "<p>5 rows × 26 columns</p>\n",
       "</div>"
      ],
      "text/plain": [
       "   car_ID  symboling                   CarName fueltype aspiration doornumber  \\\n",
       "0       1          3        alfa-romero giulia      gas        std        two   \n",
       "1       2          3       alfa-romero stelvio      gas        std        two   \n",
       "2       3          1  alfa-romero Quadrifoglio      gas        std        two   \n",
       "3       4          2               audi 100 ls      gas        std       four   \n",
       "4       5          2                audi 100ls      gas        std       four   \n",
       "\n",
       "       carbody drivewheel enginelocation  wheelbase  ...  enginesize  \\\n",
       "0  convertible        rwd          front       88.6  ...         130   \n",
       "1  convertible        rwd          front       88.6  ...         130   \n",
       "2    hatchback        rwd          front       94.5  ...         152   \n",
       "3        sedan        fwd          front       99.8  ...         109   \n",
       "4        sedan        4wd          front       99.4  ...         136   \n",
       "\n",
       "   fuelsystem  boreratio  stroke compressionratio horsepower  peakrpm citympg  \\\n",
       "0        mpfi       3.47    2.68              9.0        111     5000      21   \n",
       "1        mpfi       3.47    2.68              9.0        111     5000      21   \n",
       "2        mpfi       2.68    3.47              9.0        154     5000      19   \n",
       "3        mpfi       3.19    3.40             10.0        102     5500      24   \n",
       "4        mpfi       3.19    3.40              8.0        115     5500      18   \n",
       "\n",
       "   highwaympg    price  \n",
       "0          27  13495.0  \n",
       "1          27  16500.0  \n",
       "2          26  16500.0  \n",
       "3          30  13950.0  \n",
       "4          22  17450.0  \n",
       "\n",
       "[5 rows x 26 columns]"
      ]
     },
     "execution_count": 1,
     "metadata": {},
     "output_type": "execute_result"
    }
   ],
   "source": [
    "# Loading Data Set\n",
    "import pandas as pd\n",
    "import numpy as np\n",
    "\n",
    "data = pd.read_csv('CarPrice_Assignment.csv')\n",
    "\n",
    "data.head()"
   ]
  },
  {
   "cell_type": "code",
   "execution_count": 4,
   "id": "7ff56e59-22c0-4f83-abe3-ee612e120706",
   "metadata": {},
   "outputs": [],
   "source": [
    "# Preprocessing\n",
    "\n",
    "data.isnull().sum()\n",
    "\n",
    "data = data.dropna()  \n",
    "\n",
    "data.duplicated().sum()\n",
    "\n",
    "data = data.drop_duplicates()\n",
    "\n",
    "data = pd.get_dummies(data)"
   ]
  },
  {
   "cell_type": "markdown",
   "id": "529c2661-519c-4dfd-81de-1526e22538cb",
   "metadata": {},
   "source": [
    "### 2 Model Implementation"
   ]
  },
  {
   "cell_type": "code",
   "execution_count": 35,
   "id": "a0b869d3-7b72-45d8-8dff-a770607a3603",
   "metadata": {},
   "outputs": [],
   "source": [
    "models = {\n",
    "    \"Linear Regression\": LinearRegression(),\n",
    "    \"Decision Tree\": DecisionTreeRegressor(),\n",
    "    \"Random Forest\": RandomForestRegressor(),\n",
    "    \"Gradient Boosting\": GradientBoostingRegressor(),\n",
    "    \"Support Vector Regressor\": SVR()\n",
    "}"
   ]
  },
  {
   "cell_type": "code",
   "execution_count": 7,
   "id": "44b6aefd-0115-4dc9-b791-f51ebd01d3ae",
   "metadata": {},
   "outputs": [
    {
     "name": "stdout",
     "output_type": "stream",
     "text": [
      "Linear Regression R-squared: -1.2611894535162156\n",
      "Linear Regression MSE: 178507387.43124586\n",
      "Linear Regression MAE: 7036.822888063449\n"
     ]
    }
   ],
   "source": [
    "# 1) Linear Regression\n",
    "\n",
    "from sklearn.linear_model import LinearRegression\n",
    "from sklearn.model_selection import train_test_split\n",
    "\n",
    "X = data.drop('price', axis=1)\n",
    "y = data['price']\n",
    "\n",
    "X_train, X_test, y_train, y_test = train_test_split(X, y, test_size=0.2, random_state=42)\n",
    "\n",
    "\n",
    "model_LinearRegression = LinearRegression()\n",
    "model_LinearRegression.fit(X_train, y_train)\n",
    "\n",
    "y_pred_linear = model_LinearRegression.predict(X_test)\n",
    "\n",
    "# Evaluate performance using R-squared, MSE, and MAE\n",
    "from sklearn.metrics import r2_score, mean_squared_error, mean_absolute_error\n",
    "r2 = r2_score(y_test, y_pred_linear)\n",
    "mse = mean_squared_error(y_test, y_pred_linear)\n",
    "mae = mean_absolute_error(y_test, y_pred_linear)\n",
    "\n",
    "print(f\"Linear Regression R-squared: {r2}\")\n",
    "print(f\"Linear Regression MSE: {mse}\")\n",
    "print(f\"Linear Regression MAE: {mae}\")"
   ]
  },
  {
   "cell_type": "code",
   "execution_count": 9,
   "id": "929f2a52-7383-47b4-ae3c-2b237b31cbee",
   "metadata": {},
   "outputs": [
    {
     "name": "stdout",
     "output_type": "stream",
     "text": [
      "Decision Tree Regressor R-squared: 0.8487346784800848\n",
      "Decision Tree Regressor MSE: 11941492.700436316\n",
      "Decision Tree Regressor MAE: 2078.4309024390245\n"
     ]
    }
   ],
   "source": [
    "# 2) Decision Tree Regressor\n",
    "\n",
    "from sklearn.tree import DecisionTreeRegressor\n",
    "\n",
    "model_DecisionTreeRegressor = DecisionTreeRegressor(random_state=42)\n",
    "model_DecisionTreeRegressor.fit(X_train, y_train)\n",
    "\n",
    "y_pred_tree = model_DecisionTreeRegressor.predict(X_test)\n",
    "\n",
    "r2= r2_score(y_test, y_pred_tree)\n",
    "mse = mean_squared_error(y_test, y_pred_tree)\n",
    "mae = mean_absolute_error(y_test, y_pred_tree)\n",
    "\n",
    "print(f\"Decision Tree Regressor R-squared: {r2}\")\n",
    "print(f\"Decision Tree Regressor MSE: {mse}\")\n",
    "print(f\"Decision Tree Regressor MAE: {mae}\")"
   ]
  },
  {
   "cell_type": "code",
   "execution_count": 11,
   "id": "242aacd2-2d3c-4b20-a39f-288d5fa026c2",
   "metadata": {},
   "outputs": [
    {
     "name": "stdout",
     "output_type": "stream",
     "text": [
      "Random Forest Regressor R-squared: 0.9548659727284703\n",
      "Random Forest Regressor MSE: 3563061.5913066827\n",
      "Random Forest Regressor MAE: 1344.8036097560976\n"
     ]
    }
   ],
   "source": [
    "# 3) Random Forest Regressor\n",
    "\n",
    "from sklearn.ensemble import RandomForestRegressor\n",
    "\n",
    "model_RandomForestRegressor = RandomForestRegressor(n_estimators=100, random_state=42)\n",
    "model_RandomForestRegressor.fit(X_train, y_train)\n",
    "\n",
    "y_pred_rf = model_RandomForestRegressor.predict(X_test)\n",
    "\n",
    "r2 = r2_score(y_test, y_pred_rf)\n",
    "mse = mean_squared_error(y_test, y_pred_rf)\n",
    "mae = mean_absolute_error(y_test, y_pred_rf)\n",
    "\n",
    "print(f\"Random Forest Regressor R-squared: {r2}\")\n",
    "print(f\"Random Forest Regressor MSE: {mse}\")\n",
    "print(f\"Random Forest Regressor MAE: {mae}\")"
   ]
  },
  {
   "cell_type": "code",
   "execution_count": 13,
   "id": "44961d1c-97c5-46fb-96c3-3ffa381c3837",
   "metadata": {},
   "outputs": [
    {
     "name": "stdout",
     "output_type": "stream",
     "text": [
      "Gradient Boosting Regressor R-squared: 0.9344779157332396\n",
      "Gradient Boosting Regressor MSE: 5172576.7884338265\n",
      "Gradient Boosting Regressor MAE: 1617.6610080371565\n"
     ]
    }
   ],
   "source": [
    "# 4) Gradient Boosting Regressor\n",
    "\n",
    "from sklearn.ensemble import GradientBoostingRegressor\n",
    "\n",
    "model_GradientBoostingRegressor = GradientBoostingRegressor(n_estimators=100, random_state=42)\n",
    "model_GradientBoostingRegressor.fit(X_train, y_train)\n",
    "\n",
    "y_pred_gb = model_GradientBoostingRegressor.predict(X_test)\n",
    "\n",
    "r2 = r2_score(y_test, y_pred_gb)\n",
    "mse = mean_squared_error(y_test, y_pred_gb)\n",
    "mae = mean_absolute_error(y_test, y_pred_gb)\n",
    "\n",
    "print(f\"Gradient Boosting Regressor R-squared: {r2}\")\n",
    "print(f\"Gradient Boosting Regressor MSE: {mse}\")\n",
    "print(f\"Gradient Boosting Regressor MAE: {mae}\")"
   ]
  },
  {
   "cell_type": "code",
   "execution_count": 15,
   "id": "b213e99b-d1b2-477f-ae58-42c36733c7c1",
   "metadata": {},
   "outputs": [
    {
     "name": "stdout",
     "output_type": "stream",
     "text": [
      "Support Vector Regressor R-squared: -0.10198909696462466\n",
      "Support Vector Regressor MSE: 86995450.27993043\n",
      "Support Vector Regressor MAE: 5707.168361260932\n"
     ]
    }
   ],
   "source": [
    "# 5) Support Vector Regressor\n",
    "\n",
    "from sklearn.svm import SVR\n",
    "\n",
    "model_SVR = SVR(kernel='rbf')\n",
    "model_SVR.fit(X_train, y_train)\n",
    "\n",
    "y_pred_svr = model_SVR.predict(X_test)\n",
    "\n",
    "r2 = r2_score(y_test, y_pred_svr)\n",
    "mse = mean_squared_error(y_test, y_pred_svr)\n",
    "mae = mean_absolute_error(y_test, y_pred_svr)\n",
    "\n",
    "print(f\"Support Vector Regressor R-squared: {r2}\")\n",
    "print(f\"Support Vector Regressor MSE: {mse}\")\n",
    "print(f\"Support Vector Regressor MAE: {mae}\")"
   ]
  },
  {
   "cell_type": "markdown",
   "id": "0053ca96-0382-4b99-9257-9b79e7d9bf0e",
   "metadata": {},
   "source": [
    "### 3 Model Evaluation"
   ]
  },
  {
   "cell_type": "code",
   "execution_count": 39,
   "id": "9b9cf15d-4676-44d4-b5db-8b151a4e5a20",
   "metadata": {},
   "outputs": [],
   "source": [
    "from sklearn.metrics import mean_squared_error, mean_absolute_error, r2_score\n",
    "\n",
    "def evaluate_model(y_test, y_pred):\n",
    "    mse = mean_squared_error(y_test, y_pred)\n",
    "    mae = mean_absolute_error(y_test, y_pred)\n",
    "    r2 = r2_score(y_test, y_pred)\n",
    "    return mse, mae, r2"
   ]
  },
  {
   "cell_type": "code",
   "execution_count": 41,
   "id": "e067ba1f-f28d-4d9e-a63e-f20b6ace972d",
   "metadata": {},
   "outputs": [
    {
     "name": "stdout",
     "output_type": "stream",
     "text": [
      "Model Evaluation Results:\n",
      "                                R²           MSE          MAE\n",
      "Linear Regression        -1.261189  1.785074e+08  7036.822888\n",
      "Decision Tree             0.849184  1.190600e+07  2141.967488\n",
      "Random Forest             0.953936  3.636476e+06  1356.734951\n",
      "Gradient Boosting         0.935617  5.082652e+06  1625.930772\n",
      "Support Vector Regressor -0.101989  8.699545e+07  5707.168361\n"
     ]
    }
   ],
   "source": [
    "from sklearn.metrics import mean_squared_error, mean_absolute_error, r2_score\n",
    "\n",
    "results = {}\n",
    "\n",
    "for model_name, model in models.items():\n",
    "    model.fit(X_train, y_train)\n",
    "    \n",
    "    y_pred = model.predict(X_test)\n",
    "    \n",
    "    r2 = r2_score(y_test, y_pred)\n",
    "    \n",
    "    mse = mean_squared_error(y_test, y_pred)\n",
    "    \n",
    "    mae = mean_absolute_error(y_test, y_pred)\n",
    "    \n",
    "    results[model_name] = {\n",
    "        \"R²\": r2,\n",
    "        \"MSE\": mse,\n",
    "        \"MAE\": mae\n",
    "    }\n",
    "\n",
    "results_df = pd.DataFrame(results)\n",
    "\n",
    "print(\"Model Evaluation Results:\")\n",
    "print(results_df)"
   ]
  },
  {
   "cell_type": "markdown",
   "id": "19064007-eea0-4cb8-863e-6c5ae43b2297",
   "metadata": {},
   "source": [
    "### 4 Feature Importance Analysis "
   ]
  },
  {
   "cell_type": "code",
   "execution_count": 26,
   "id": "da8bf1c2-9d14-4732-9bb8-d0f3c87139a7",
   "metadata": {},
   "outputs": [
    {
     "name": "stdout",
     "output_type": "stream",
     "text": [
      "\n",
      "=== Selected Features for RFE ===\n",
      "['CarName_chevrolet impala', 'CarName_jaguar xk', 'drivewheel_rwd', 'enginelocation_rear', 'enginetype_dohc', 'enginetype_dohcv', 'enginetype_l', 'enginetype_ohc', 'enginetype_ohcf', 'cylindernumber_eight', 'cylindernumber_four', 'cylindernumber_twelve', 'fuelsystem_4bbl']\n"
     ]
    }
   ],
   "source": [
    "from sklearn.feature_selection import RFE, SelectKBest\n",
    "\n",
    "model = LinearRegression()\n",
    "rfe = RFE(model, n_features_to_select=13) \n",
    "rfe.fit(X, y)\n",
    "\n",
    "selected_features_rfe = X.columns[rfe.support_]\n",
    "\n",
    "print(\"\\n=== Selected Features for RFE ===\")\n",
    "print(selected_features_rfe.tolist())"
   ]
  },
  {
   "cell_type": "code",
   "execution_count": 28,
   "id": "b1bbd2e3-ed67-4f3c-890e-3a248dfd4871",
   "metadata": {},
   "outputs": [
    {
     "name": "stdout",
     "output_type": "stream",
     "text": [
      "\n",
      "=== Selected Features for Regression ===\n",
      "Index(['cylindernumber_twelve', 'cylindernumber_two', 'fuelsystem_4bbl',\n",
      "       'fuelsystem_mfi', 'fuelsystem_spfi'],\n",
      "      dtype='object')\n"
     ]
    },
    {
     "name": "stderr",
     "output_type": "stream",
     "text": [
      "C:\\Users\\shahe\\anaconda3\\Lib\\site-packages\\sklearn\\feature_selection\\_univariate_selection.py:113: RuntimeWarning: divide by zero encountered in divide\n",
      "  f = msb / msw\n"
     ]
    }
   ],
   "source": [
    "selector_reg = SelectKBest(k=5)   \n",
    "X_reg_selected = selector_reg.fit_transform(X, y)\n",
    "selected_fetures_reg = X.columns[selector_reg.get_support()]\n",
    "\n",
    "print(\"\\n=== Selected Features for Regression ===\")\n",
    "print(selected_features_reg)"
   ]
  },
  {
   "cell_type": "code",
   "execution_count": 31,
   "id": "c5cefbc7-8f4c-42d0-85c4-7861c6940455",
   "metadata": {},
   "outputs": [
    {
     "name": "stdout",
     "output_type": "stream",
     "text": [
      "                              Feature  Importance\n",
      "7                          enginesize    0.551711\n",
      "6                          curbweight    0.265877\n",
      "14                         highwaympg    0.064909\n",
      "11                         horsepower    0.032951\n",
      "0                              car_ID    0.016822\n",
      "..                                ...         ...\n",
      "29                     CarName_bmw x5    0.000000\n",
      "132  CarName_toyota corolla 1600 (sw)    0.000000\n",
      "120               CarName_subaru baja    0.000000\n",
      "126            CarName_subaru tribeca    0.000000\n",
      "28                     CarName_bmw x4    0.000000\n",
      "\n",
      "[200 rows x 2 columns]\n"
     ]
    }
   ],
   "source": [
    "rf_model = RandomForestRegressor()\n",
    "rf_model.fit(X_train, y_train)\n",
    "\n",
    "feature_importance = rf_model.feature_importances_\n",
    "\n",
    "feature_df = pd.DataFrame({\n",
    "    'Feature': X.columns,\n",
    "    'Importance': feature_importance\n",
    "}).sort_values(by='Importance', ascending=False)\n",
    "\n",
    "print(feature_data)"
   ]
  },
  {
   "cell_type": "markdown",
   "id": "cefca1ce-7342-444f-86e8-6cca77528d71",
   "metadata": {},
   "source": [
    "### 5 Hyperparameter Tuning"
   ]
  },
  {
   "cell_type": "code",
   "execution_count": 48,
   "id": "329ce7ed-f131-42d8-a465-dc993b7a5227",
   "metadata": {},
   "outputs": [
    {
     "name": "stdout",
     "output_type": "stream",
     "text": [
      "Best Parameters:  {'max_depth': 20, 'min_samples_split': 2, 'n_estimators': 50}\n",
      "Best Random Forest Model R2:  0.9529084881943272\n"
     ]
    }
   ],
   "source": [
    "from sklearn.model_selection import GridSearchCV\n",
    "\n",
    "param_grid = {\n",
    "    'n_estimators': [50, 100, 200],\n",
    "    'max_depth': [10, 20, None],\n",
    "    'min_samples_split': [2, 5, 10]\n",
    "}\n",
    "\n",
    "rf_model = RandomForestRegressor()\n",
    "\n",
    "grid_search = GridSearchCV(estimator=rf_model, param_grid=param_grid, cv=5, n_jobs=-1)\n",
    "\n",
    "grid_search.fit(X_train, y_train)\n",
    "\n",
    "print(\"Best Parameters: \", grid_search.best_params_)\n",
    "best_rf_model = grid_search.best_estimator_\n",
    "\n",
    "y_pred_best_rf = best_rf_model.predict(X_test)\n",
    "print(\"Best Random Forest Model R2: \", r2_score(y_test, y_pred_best_rf))\n"
   ]
  },
  {
   "cell_type": "code",
   "execution_count": 44,
   "id": "0c7cf1a8-09f6-4653-85fe-a121c03932ba",
   "metadata": {},
   "outputs": [
    {
     "name": "stdout",
     "output_type": "stream",
     "text": [
      "Best parameters for Random Forest: {'max_depth': 20, 'min_samples_split': 5, 'n_estimators': 100}\n",
      "R2 score after tuning: 0.9556628712146326\n"
     ]
    }
   ],
   "source": [
    "from sklearn.model_selection import GridSearchCV\n",
    "\n",
    "print(\"Best parameters for Random Forest:\", grid_search_rf.best_params_)\n",
    "\n",
    "y_pred_rf_tuned = grid_search_rf.best_estimator_.predict(X_test)\n",
    "mse_rf_tuned, mae_rf_tuned, r2_rf_tuned = evaluate_model(y_test, y_pred_rf_tuned)\n",
    "print(f\"R2 score after tuning: {r2_rf_tuned}\")"
   ]
  },
  {
   "cell_type": "code",
   "execution_count": null,
   "id": "19a5ef08-558d-45c4-95d4-4a56e5416eb6",
   "metadata": {},
   "outputs": [],
   "source": []
  }
 ],
 "metadata": {
  "kernelspec": {
   "display_name": "Python 3 (ipykernel)",
   "language": "python",
   "name": "python3"
  },
  "language_info": {
   "codemirror_mode": {
    "name": "ipython",
    "version": 3
   },
   "file_extension": ".py",
   "mimetype": "text/x-python",
   "name": "python",
   "nbconvert_exporter": "python",
   "pygments_lexer": "ipython3",
   "version": "3.12.4"
  }
 },
 "nbformat": 4,
 "nbformat_minor": 5
}
